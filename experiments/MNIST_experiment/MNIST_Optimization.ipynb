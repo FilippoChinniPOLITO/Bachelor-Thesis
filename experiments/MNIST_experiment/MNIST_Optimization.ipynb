{
 "cells": [
  {
   "metadata": {},
   "cell_type": "markdown",
   "source": "# MNIST Optuna Optimization",
   "id": "cf4536d9fd82db7d"
  },
  {
   "metadata": {},
   "cell_type": "markdown",
   "source": "## Environment Setup",
   "id": "b71b0d37a7eab1d"
  },
  {
   "metadata": {},
   "cell_type": "markdown",
   "source": "### Import Dependencies",
   "id": "865294b74036a05a"
  },
  {
   "metadata": {},
   "cell_type": "code",
   "outputs": [],
   "execution_count": null,
   "source": [
    "import optuna\n",
    "from optuna import Trial\n",
    "\n",
    "import warnings\n",
    "warnings.filterwarnings('ignore')\n",
    "\n",
    "import logging\n",
    "logging.getLogger('optuna').setLevel(logging.WARNING)\n",
    "\n",
    "import sys\n",
    "sys.path.insert(0, '..')\n",
    "sys.path.insert(0, '../..')\n",
    "# sys.path.insert(0, '../code/Users/f.chinnicarella/src/root_workspace/Bachelor-Thesis')\n",
    "\n",
    "from utils.persistency.logger import Logger\n",
    "\n",
    "from utils.dataset.build_dataset import load_MNIST_data\n",
    "from utils.dataset.build_dataloader import init_data_loader\n",
    "\n",
    "from utils.training.train_loop import full_train_loop\n",
    "from utils.model.model_utils import init_model\n",
    "from utils.optimization.early_stopper import EarlyStopper\n",
    "from utils.optimization.regularizer import Regularizer\n",
    "from utils.misc.device import get_device\n",
    "from utils.model.model_utils import get_activation_fn, get_loss_fn, get_optimizer\n",
    "from utils.optimization.optuna_runner import OptunaRunner\n",
    "from utils.display_results.display_results import prediction_loop\n",
    "from utils.display_results.display_results import display_images\n",
    "from utils.persistency.file_name_builder import file_name_builder, folder_exists_check"
   ],
   "id": "844bc2d38740389"
  },
  {
   "metadata": {},
   "cell_type": "markdown",
   "source": "### Init Session",
   "id": "cd02bcd2633bc18d"
  },
  {
   "metadata": {},
   "cell_type": "code",
   "outputs": [],
   "execution_count": null,
   "source": "session_num = '008'",
   "id": "b4a104d70091a5b2"
  },
  {
   "metadata": {},
   "cell_type": "code",
   "outputs": [],
   "execution_count": null,
   "source": [
    "outputs_folder_path_csv = 'output_files_MNIST/csv'\n",
    "outputs_folder_path_txt = 'output_files_MNIST/txt'"
   ],
   "id": "d9b1a0585e403846"
  },
  {
   "metadata": {},
   "cell_type": "markdown",
   "source": "## Load Data",
   "id": "d23aec523dec8455"
  },
  {
   "metadata": {},
   "cell_type": "code",
   "outputs": [],
   "execution_count": null,
   "source": "train_dataset, val_dataset, test_dataset = load_MNIST_data('data_MNIST/')",
   "id": "5c33aebbcc2728ec"
  },
  {
   "metadata": {},
   "cell_type": "code",
   "outputs": [],
   "execution_count": null,
   "source": [
    "# train_loader = init_data_loader(train_dataset, batch_size=32)\n",
    "# val_loader = init_data_loader(val_dateset, batch_size=32)\n",
    "# test_loader = init_data_loader(test_dataset, batch_size=32)"
   ],
   "id": "9dd2966db33bed90"
  },
  {
   "metadata": {},
   "cell_type": "markdown",
   "source": "## Optuna Optimization",
   "id": "fe57cdd5a89a8b65"
  },
  {
   "metadata": {},
   "cell_type": "markdown",
   "source": "### Define Objective Function",
   "id": "182093cfb71fbfdb"
  },
  {
   "metadata": {},
   "cell_type": "code",
   "outputs": [],
   "execution_count": null,
   "source": [
    "def objective(trial: Trial, logger: Logger):\n",
    "    # Define Hyperparameters - Structure HPs\n",
    "    activation = trial.suggest_categorical('activation_fn', ['relu', 'sigmoid', 'tanh'])\n",
    "    # num_hidden_layer = trial.suggest_int('num_hidden_layer', 3, 3)\n",
    "    num_hidden_layer = 3\n",
    "\n",
    "    network_architecture = [28 * 28]\n",
    "    for i in range(num_hidden_layer):\n",
    "        layer_width = trial.suggest_int(f'hidden_layer_n{i+1}_size', 0, 128, 8)\n",
    "        if layer_width != 0:\n",
    "            network_architecture.append(layer_width)\n",
    "    network_architecture.append(10)\n",
    "    trial.set_user_attr('network', network_architecture)\n",
    "    \n",
    "\n",
    "    # Define Hyperparameters - Training HPs\n",
    "    batch_size = trial.suggest_int('batch_size', 16, 64, 16)\n",
    "    learning_rate = trial.suggest_float('learning_rate', 1e-4, 1e-2, log=True)\n",
    "    loss_function_str = trial.suggest_categorical('loss_fn', ['CrossEntropy', 'Focal'])\n",
    "    optimizer_str = trial.suggest_categorical('optimizer', ['SGD', 'Adam'])\n",
    "\n",
    "    # Define Hyperparameters - Epochs\n",
    "    max_epochs = 30\n",
    "\n",
    "\n",
    "    # Init DataLoaders\n",
    "    train_loader = init_data_loader(train_dataset, batch_size=batch_size)\n",
    "    val_loader = init_data_loader(val_dataset, batch_size=batch_size)\n",
    "    test_loader = init_data_loader(test_dataset, batch_size=batch_size)\n",
    "\n",
    "    # Init Model\n",
    "    model_extra_args = {'network_architecture': network_architecture, 'activation': get_activation_fn(activation)}\n",
    "    model = init_model(model_str='MLP', extra_args=model_extra_args).to(get_device())\n",
    "\n",
    "    # Init Loss\n",
    "    loss_fn = get_loss_fn(loss_str=loss_function_str)\n",
    "    \n",
    "    # Init Optimizer\n",
    "    optimizer = get_optimizer(model=model, optimizer_str=optimizer_str, learning_rate=learning_rate)\n",
    "\n",
    "    # Init Regularizer\n",
    "    regularizer = Regularizer(lambda_tot_widths=0.4, max_depth=3, max_width=128)\n",
    "\n",
    "    # Init Early Stopper\n",
    "    early_stopper = EarlyStopper(patience=5, mode=\"maximize\")\n",
    "    \n",
    "    \n",
    "    # Perform Training\n",
    "    optim_score = full_train_loop(max_epochs=max_epochs,\n",
    "                                  train_loader=train_loader, val_loader=val_loader, test_loader=test_loader,\n",
    "                                  model=model,\n",
    "                                  loss_fn=loss_fn,\n",
    "                                  optimizer=optimizer,\n",
    "                                  regularizer=regularizer,\n",
    "                                  early_stopper=early_stopper,\n",
    "                                  logger=logger,\n",
    "                                  trial=trial)\n",
    "    \n",
    "    return optim_score"
   ],
   "id": "d742013e3a64b21d"
  },
  {
   "metadata": {},
   "cell_type": "markdown",
   "source": "#### Optuna Constants - Study Parameters",
   "id": "cc5abf6e434eee08"
  },
  {
   "metadata": {},
   "cell_type": "code",
   "outputs": [],
   "execution_count": null,
   "source": "ATTRS = ('number', 'value', 'user_attrs', 'state', 'params', 'duration', 'datetime_start', 'datetime_complete')",
   "id": "b09ffadb6e35b0db"
  },
  {
   "metadata": {},
   "cell_type": "code",
   "outputs": [],
   "execution_count": null,
   "source": "DIRECTION = 'maximize'",
   "id": "93068e0cec43afb0"
  },
  {
   "metadata": {},
   "cell_type": "code",
   "outputs": [],
   "execution_count": null,
   "source": [
    "optuna_runner = OptunaRunner(objective_fn=objective,\n",
    "                             n_jobs=-1,\n",
    "                             n_trials=256,\n",
    "                             path_csv=outputs_folder_path_csv,\n",
    "                             path_txt=outputs_folder_path_txt,\n",
    "                             session_num=session_num,\n",
    "                             metric_to_follow='accuracy',\n",
    "                             attrs=ATTRS)"
   ],
   "id": "72a9e5e0863581f3"
  },
  {
   "metadata": {},
   "cell_type": "markdown",
   "source": "#### Optuna Constants - Samplers",
   "id": "4d829f9d950edab6"
  },
  {
   "metadata": {},
   "cell_type": "code",
   "outputs": [],
   "execution_count": null,
   "source": [
    "RandomSampler = optuna.samplers.RandomSampler()\n",
    "TPESampler = optuna.samplers.TPESampler()"
   ],
   "id": "8d7e5bad67129847"
  },
  {
   "metadata": {},
   "cell_type": "markdown",
   "source": "#### Optuna Constants - Pruners",
   "id": "1e8ff5959c9f862a"
  },
  {
   "metadata": {},
   "cell_type": "code",
   "outputs": [],
   "execution_count": null,
   "source": [
    "MedianPruner = optuna.pruners.MedianPruner(n_startup_trials=0, n_warmup_steps=1, interval_steps=2, n_min_trials=4)\n",
    "HyperbandPruner = optuna.pruners.HyperbandPruner(min_resource=3, max_resource=30, reduction_factor=3, bootstrap_count=6)"
   ],
   "id": "2ecf8b111eb5d56b"
  },
  {
   "metadata": {},
   "cell_type": "markdown",
   "source": "### Run Optimizations",
   "id": "e76be0c863fa92c5"
  },
  {
   "metadata": {},
   "cell_type": "markdown",
   "source": "#### Random Sampler",
   "id": "4fc2ac8cd8a8c1ac"
  },
  {
   "metadata": {},
   "cell_type": "code",
   "outputs": [],
   "execution_count": null,
   "source": [
    "study_Random = optuna.create_study(direction=DIRECTION, sampler=RandomSampler, pruner=MedianPruner)\n",
    "optuna_runner(study_Random, 'Random_Sampler')"
   ],
   "id": "7d120b6e233698bd"
  },
  {
   "metadata": {},
   "cell_type": "markdown",
   "source": "#### TPE Sampler",
   "id": "1a2252409c4180e7"
  },
  {
   "metadata": {},
   "cell_type": "code",
   "outputs": [],
   "execution_count": null,
   "source": [
    "study_TPE = optuna.create_study(direction=DIRECTION, sampler=TPESampler, pruner=HyperbandPruner)\n",
    "optuna_runner(study_TPE, 'TPE_Sampler')"
   ],
   "id": "a4a84bf9ba8826ff"
  },
  {
   "metadata": {},
   "cell_type": "markdown",
   "source": "## Display Best Results ------[currently broken]",
   "id": "bd3a5d01500ce1a7"
  },
  {
   "metadata": {},
   "cell_type": "code",
   "outputs": [],
   "execution_count": null,
   "source": [
    "# Alias for Best Study\n",
    "best_study = study_TPE"
   ],
   "id": "71d7ab221896fd06"
  },
  {
   "metadata": {},
   "cell_type": "code",
   "outputs": [],
   "execution_count": null,
   "source": [
    "# Init DataLoaders\n",
    "train_loader_best = init_data_loader(train_dataset, batch_size=best_study.best_params['batch_size'])\n",
    "val_loader_best = init_data_loader(val_dataset, batch_size=best_study.best_params['batch_size'])\n",
    "test_loader_best = init_data_loader(test_dataset, batch_size=best_study.best_params['batch_size'])\n",
    "\n",
    "# Init Model\n",
    "best_hidden_layer_sizes = [28*28] + [best_study.best_params[f'hidden_layer_n{i+1}_size'] for i in range(best_study.best_params['num_hidden_layer'])] + [10]\n",
    "best_model_extra_args = {'network_architecture': best_hidden_layer_sizes,\n",
    "                    'activation': get_activation_fn(best_study.best_params['activation_fn'])}\n",
    "best_model = init_model(model_str='MLP', extra_args=best_model_extra_args).to(get_device())\n",
    "\n",
    "# Init Loss and Optimizer\n",
    "loss_fn_best = get_loss_fn(loss_str=best_study.best_params['loss_fn'])\n",
    "optimizer_best = get_optimizer(model=best_model,\n",
    "                               optimizer_str=best_study.best_params['optimizer'],\n",
    "                               learning_rate=best_study.best_params['learning_rate'])\n",
    "\n",
    "# Init Early Stopper\n",
    "early_stopper_best = EarlyStopper(patience=5, mode=\"maximize\")\n",
    "\n",
    "# Init Logger\n",
    "folder_exists_check(outputs_folder_path_txt, session_num, f'log_BEST_STUDY')\n",
    "logger_best_study = Logger(file_name_builder(outputs_folder_path_txt, session_num, f'log_BEST_STUDY', 'txt'))\n",
    "\n",
    "\n",
    "# Train Model\n",
    "full_train_loop(max_epochs=best_study.best_params['max_epochs'],\n",
    "                train_loader=train_loader_best, val_loader=val_loader_best, test_loader=test_loader_best,\n",
    "                model=best_model,\n",
    "                loss_fn=loss_fn_best,\n",
    "                optimizer=optimizer_best,\n",
    "                regularizer=None,\n",
    "                early_stopper=early_stopper_best,\n",
    "                logger=logger_best_study,\n",
    "                trial=None)"
   ],
   "id": "ee1e5d6f0be21ab1"
  },
  {
   "metadata": {},
   "cell_type": "code",
   "outputs": [],
   "execution_count": null,
   "source": "images, y_pred_best, y_test = prediction_loop(test_loader_best, best_model)",
   "id": "bb52cefe86f4248"
  },
  {
   "metadata": {},
   "cell_type": "code",
   "outputs": [],
   "execution_count": null,
   "source": "display_images(images, y_pred_best, y_test, 50)",
   "id": "8b6338369e093464"
  }
 ],
 "metadata": {
  "kernelspec": {
   "display_name": "Python 3",
   "language": "python",
   "name": "python3"
  },
  "language_info": {
   "codemirror_mode": {
    "name": "ipython",
    "version": 2
   },
   "file_extension": ".py",
   "mimetype": "text/x-python",
   "name": "python",
   "nbconvert_exporter": "python",
   "pygments_lexer": "ipython2",
   "version": "2.7.6"
  }
 },
 "nbformat": 4,
 "nbformat_minor": 5
}
