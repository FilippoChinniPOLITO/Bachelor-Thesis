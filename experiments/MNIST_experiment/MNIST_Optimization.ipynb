{
 "cells": [
  {
   "metadata": {},
   "cell_type": "markdown",
   "source": "# MNIST Optuna Optimization",
   "id": "cf4536d9fd82db7d"
  },
  {
   "metadata": {},
   "cell_type": "markdown",
   "source": "## Environment Setup",
   "id": "b71b0d37a7eab1d"
  },
  {
   "metadata": {},
   "cell_type": "markdown",
   "source": "### Import Dependencies",
   "id": "865294b74036a05a"
  },
  {
   "metadata": {
    "ExecuteTime": {
     "end_time": "2024-05-13T20:21:17.885766Z",
     "start_time": "2024-05-13T20:20:54.788615Z"
    }
   },
   "cell_type": "code",
   "source": [
    "import optuna\n",
    "from optuna import Trial\n",
    "\n",
    "import warnings\n",
    "warnings.filterwarnings('ignore')\n",
    "\n",
    "import logging\n",
    "logging.getLogger('optuna').setLevel(logging.WARNING)\n",
    "\n",
    "import sys\n",
    "sys.path.insert(0, '..')\n",
    "sys.path.insert(0, '../..')\n",
    "# sys.path.insert(0, '../code/Users/f.chinnicarella/src/root_workspace/Bachelor-Thesis')\n",
    "\n",
    "from utils.persistency.logger import Logger\n",
    "\n",
    "from utils.dataset.build_dataset import load_MNIST_data\n",
    "from utils.dataset.build_dataloader import init_data_loader\n",
    "\n",
    "from utils.training.train_loop import full_train_loop\n",
    "from utils.model.model_utils import init_model\n",
    "from utils.optimization.early_stopper import EarlyStopper\n",
    "from utils.optimization.regularizer import Regularizer\n",
    "from utils.misc.device import get_device\n",
    "from utils.model.model_utils import get_activation_fn, get_loss_fn, get_optimizer\n",
    "from utils.optuna_utils.optuna_runner import OptunaRunner\n",
    "from utils.optuna_utils.optuna_study_creator import OptunaStudyCreator\n",
    "from utils.optuna_utils.pso_sampler import PSOSampler\n",
    "from utils.display_results.display_results import prediction_loop\n",
    "from utils.display_results.display_results import display_images\n",
    "from utils.persistency.file_name_builder import file_name_builder, folder_exists_check"
   ],
   "id": "844bc2d38740389",
   "outputs": [],
   "execution_count": 1
  },
  {
   "metadata": {},
   "cell_type": "markdown",
   "source": "### Init Session",
   "id": "cd02bcd2633bc18d"
  },
  {
   "metadata": {
    "ExecuteTime": {
     "end_time": "2024-05-13T20:21:18.051012Z",
     "start_time": "2024-05-13T20:21:17.889713Z"
    }
   },
   "cell_type": "code",
   "source": "EXPERIMENT_NAME = 'MNIST_Optuna_Optimization'",
   "id": "7fdb606f9c2df73b",
   "outputs": [],
   "execution_count": 2
  },
  {
   "metadata": {
    "ExecuteTime": {
     "end_time": "2024-05-13T20:21:18.075866Z",
     "start_time": "2024-05-13T20:21:18.053613Z"
    }
   },
   "cell_type": "code",
   "source": "SESSION_NUM = '013'",
   "id": "b4a104d70091a5b2",
   "outputs": [],
   "execution_count": 3
  },
  {
   "metadata": {
    "ExecuteTime": {
     "end_time": "2024-05-13T20:21:18.101072Z",
     "start_time": "2024-05-13T20:21:18.077718Z"
    }
   },
   "cell_type": "code",
   "source": [
    "OUTPUTS_FOLDER_PATH_CSV = 'output_files_MNIST/csv'\n",
    "OUTPUTS_FOLDER_PATH_TXT = 'output_files_MNIST/txt'\n",
    "OUTPUTS_FOLDER_PATH_DB = 'output_files_MNIST/db'"
   ],
   "id": "d9b1a0585e403846",
   "outputs": [],
   "execution_count": 4
  },
  {
   "metadata": {},
   "cell_type": "markdown",
   "source": "## Load Data",
   "id": "d23aec523dec8455"
  },
  {
   "metadata": {
    "ExecuteTime": {
     "end_time": "2024-05-13T20:21:42.521695Z",
     "start_time": "2024-05-13T20:21:18.107021Z"
    }
   },
   "cell_type": "code",
   "source": "train_dataset, val_dataset, test_dataset = load_MNIST_data('data_MNIST/')",
   "id": "5c33aebbcc2728ec",
   "outputs": [
    {
     "name": "stdout",
     "output_type": "stream",
     "text": [
      "Downloading http://yann.lecun.com/exdb/mnist/train-images-idx3-ubyte.gz\n",
      "Failed to download (trying next):\n",
      "HTTP Error 403: Forbidden\n",
      "\n",
      "Downloading https://ossci-datasets.s3.amazonaws.com/mnist/train-images-idx3-ubyte.gz\n",
      "Downloading https://ossci-datasets.s3.amazonaws.com/mnist/train-images-idx3-ubyte.gz to data_MNIST/MNIST\\raw\\train-images-idx3-ubyte.gz\n"
     ]
    },
    {
     "name": "stderr",
     "output_type": "stream",
     "text": [
      "100%|██████████| 9912422/9912422 [00:09<00:00, 992615.17it/s] \n"
     ]
    },
    {
     "name": "stdout",
     "output_type": "stream",
     "text": [
      "Extracting data_MNIST/MNIST\\raw\\train-images-idx3-ubyte.gz to data_MNIST/MNIST\\raw\n",
      "\n",
      "Downloading http://yann.lecun.com/exdb/mnist/train-labels-idx1-ubyte.gz\n",
      "Failed to download (trying next):\n",
      "HTTP Error 403: Forbidden\n",
      "\n",
      "Downloading https://ossci-datasets.s3.amazonaws.com/mnist/train-labels-idx1-ubyte.gz\n",
      "Downloading https://ossci-datasets.s3.amazonaws.com/mnist/train-labels-idx1-ubyte.gz to data_MNIST/MNIST\\raw\\train-labels-idx1-ubyte.gz\n"
     ]
    },
    {
     "name": "stderr",
     "output_type": "stream",
     "text": [
      "100%|██████████| 28881/28881 [00:00<00:00, 530642.91it/s]\n"
     ]
    },
    {
     "name": "stdout",
     "output_type": "stream",
     "text": [
      "Extracting data_MNIST/MNIST\\raw\\train-labels-idx1-ubyte.gz to data_MNIST/MNIST\\raw\n",
      "\n",
      "Downloading http://yann.lecun.com/exdb/mnist/t10k-images-idx3-ubyte.gz\n",
      "Failed to download (trying next):\n",
      "HTTP Error 403: Forbidden\n",
      "\n",
      "Downloading https://ossci-datasets.s3.amazonaws.com/mnist/t10k-images-idx3-ubyte.gz\n",
      "Downloading https://ossci-datasets.s3.amazonaws.com/mnist/t10k-images-idx3-ubyte.gz to data_MNIST/MNIST\\raw\\t10k-images-idx3-ubyte.gz\n"
     ]
    },
    {
     "name": "stderr",
     "output_type": "stream",
     "text": [
      "100%|██████████| 1648877/1648877 [00:03<00:00, 540348.38it/s]\n"
     ]
    },
    {
     "name": "stdout",
     "output_type": "stream",
     "text": [
      "Extracting data_MNIST/MNIST\\raw\\t10k-images-idx3-ubyte.gz to data_MNIST/MNIST\\raw\n",
      "\n",
      "Downloading http://yann.lecun.com/exdb/mnist/t10k-labels-idx1-ubyte.gz\n",
      "Failed to download (trying next):\n",
      "HTTP Error 403: Forbidden\n",
      "\n",
      "Downloading https://ossci-datasets.s3.amazonaws.com/mnist/t10k-labels-idx1-ubyte.gz\n",
      "Downloading https://ossci-datasets.s3.amazonaws.com/mnist/t10k-labels-idx1-ubyte.gz to data_MNIST/MNIST\\raw\\t10k-labels-idx1-ubyte.gz\n"
     ]
    },
    {
     "name": "stderr",
     "output_type": "stream",
     "text": [
      "100%|██████████| 4542/4542 [00:00<?, ?it/s]\n"
     ]
    },
    {
     "name": "stdout",
     "output_type": "stream",
     "text": [
      "Extracting data_MNIST/MNIST\\raw\\t10k-labels-idx1-ubyte.gz to data_MNIST/MNIST\\raw\n",
      "\n"
     ]
    }
   ],
   "execution_count": 5
  },
  {
   "metadata": {},
   "cell_type": "markdown",
   "source": "## Optuna Optimization",
   "id": "fe57cdd5a89a8b65"
  },
  {
   "metadata": {},
   "cell_type": "markdown",
   "source": "### Define Objective Function",
   "id": "182093cfb71fbfdb"
  },
  {
   "metadata": {
    "ExecuteTime": {
     "end_time": "2024-05-13T20:21:42.564163Z",
     "start_time": "2024-05-13T20:21:42.530983Z"
    }
   },
   "cell_type": "code",
   "source": [
    "def objective(trial: Trial, logger: Logger):\n",
    "    # Define Hyperparameters - Structure HPs - Activation Function\n",
    "    activation = trial.suggest_categorical('activation_fn', ['relu', 'sigmoid', 'tanh'])\n",
    "    # activation = 'relu'\n",
    "    \n",
    "    # Define Hyperparameters - Structure HPs - Network Architecture (Depth)\n",
    "    # num_hidden_layer = trial.suggest_int('num_hidden_layer', 3, 3)\n",
    "    num_hidden_layer = 3\n",
    "\n",
    "    # Define Hyperparameters - Structure HPs - Network Architecture (Width)\n",
    "    network_architecture = [28 * 28]\n",
    "    for i in range(num_hidden_layer):\n",
    "        layer_width = trial.suggest_int(f'hidden_layer_n{i+1}_size', 0, 128, step=8)\n",
    "        if layer_width != 0:\n",
    "            network_architecture.append(layer_width)\n",
    "    network_architecture.append(10)\n",
    "    trial.set_user_attr('network', network_architecture)\n",
    "    \n",
    "\n",
    "    # Define Hyperparameters - Training HPs - Batch Size\n",
    "    # batch_size = trial.suggest_int('batch_size', 16, 64, step=16)\n",
    "    batch_size = 16\n",
    "    \n",
    "    # Define Hyperparameters - Training HPs - Learning Rate\n",
    "    learning_rate = trial.suggest_float('learning_rate', 1e-4, 1e-2, log=True)\n",
    "    # learning_rate = 1e-3\n",
    "    \n",
    "    # Define Hyperparameters - Training HPs - Loss Function\n",
    "    # loss_function_str = trial.suggest_categorical('loss_fn', ['CrossEntropy', 'Focal'])\n",
    "    loss_function_str = 'CrossEntropy'\n",
    "    \n",
    "    # Define Hyperparameters - Training HPs - Optimizer\n",
    "    optimizer_str = trial.suggest_categorical('optimizer', ['SGD', 'Adam'])\n",
    "    # optimizer_str = 'Adam'\n",
    "\n",
    "    # Define Hyperparameters - Max Epochs\n",
    "    max_epochs = 30\n",
    "\n",
    "\n",
    "    # Init DataLoaders\n",
    "    train_loader = init_data_loader(train_dataset, batch_size=batch_size)\n",
    "    val_loader = init_data_loader(val_dataset, batch_size=batch_size)\n",
    "    test_loader = init_data_loader(test_dataset, batch_size=batch_size)\n",
    "\n",
    "    # Init Model\n",
    "    model_extra_args = {'network_architecture': network_architecture, 'activation': get_activation_fn(activation)}\n",
    "    model = init_model(model_str='MLP', extra_args=model_extra_args).to(get_device())\n",
    "\n",
    "    # Init Loss\n",
    "    loss_fn = get_loss_fn(loss_str=loss_function_str)\n",
    "    \n",
    "    # Init Optimizer\n",
    "    optimizer = get_optimizer(model=model, optimizer_str=optimizer_str, learning_rate=learning_rate)\n",
    "\n",
    "    # Init Regularizer\n",
    "    regularizer = Regularizer(lambda_tot_widths=0.4, max_depth=3, max_width=128)\n",
    "\n",
    "    # Init Early Stopper\n",
    "    early_stopper = EarlyStopper(patience=5, mode=\"maximize\")\n",
    "    \n",
    "    \n",
    "    # Perform Training\n",
    "    optim_score = full_train_loop(max_epochs=max_epochs,\n",
    "                                  train_loader=train_loader, val_loader=val_loader, test_loader=test_loader,\n",
    "                                  model=model,\n",
    "                                  loss_fn=loss_fn,\n",
    "                                  optimizer=optimizer,\n",
    "                                  regularizer=regularizer,\n",
    "                                  early_stopper=early_stopper,\n",
    "                                  logger=logger,\n",
    "                                  trial=trial)\n",
    "    \n",
    "    return optim_score"
   ],
   "id": "d742013e3a64b21d",
   "outputs": [],
   "execution_count": 6
  },
  {
   "metadata": {},
   "cell_type": "markdown",
   "source": "#### Optuna Constants - Study Parameters",
   "id": "cc5abf6e434eee08"
  },
  {
   "metadata": {
    "ExecuteTime": {
     "end_time": "2024-05-13T20:21:42.623513Z",
     "start_time": "2024-05-13T20:21:42.564163Z"
    }
   },
   "cell_type": "code",
   "source": "ATTRS = ('number', 'value', 'user_attrs', 'state', 'params', 'duration', 'datetime_start', 'datetime_complete')",
   "id": "b09ffadb6e35b0db",
   "outputs": [],
   "execution_count": 7
  },
  {
   "metadata": {
    "ExecuteTime": {
     "end_time": "2024-05-13T20:21:42.667527Z",
     "start_time": "2024-05-13T20:21:42.623513Z"
    }
   },
   "cell_type": "code",
   "source": "DIRECTION = 'maximize'",
   "id": "93068e0cec43afb0",
   "outputs": [],
   "execution_count": 8
  },
  {
   "metadata": {
    "ExecuteTime": {
     "end_time": "2024-05-13T20:21:42.716411Z",
     "start_time": "2024-05-13T20:21:42.667527Z"
    }
   },
   "cell_type": "code",
   "source": [
    "optuna_runner = OptunaRunner(objective_fn=objective,\n",
    "                             n_jobs=-1,\n",
    "                             n_trials=256,\n",
    "                             path_csv=OUTPUTS_FOLDER_PATH_CSV,\n",
    "                             path_txt=OUTPUTS_FOLDER_PATH_TXT,\n",
    "                             session_num=SESSION_NUM,\n",
    "                             metric_to_follow='accuracy',\n",
    "                             attrs=ATTRS)"
   ],
   "id": "72a9e5e0863581f3",
   "outputs": [],
   "execution_count": 9
  },
  {
   "metadata": {
    "ExecuteTime": {
     "end_time": "2024-05-13T20:21:47.068117Z",
     "start_time": "2024-05-13T20:21:42.718253Z"
    }
   },
   "cell_type": "code",
   "source": [
    "optuna_study_creator = OptunaStudyCreator(experiment_name=EXPERIMENT_NAME,\n",
    "                                          path_db=OUTPUTS_FOLDER_PATH_DB, \n",
    "                                          session_num=SESSION_NUM,\n",
    "                                          use_storage=True)"
   ],
   "id": "20fc92ec587eb26a",
   "outputs": [],
   "execution_count": 10
  },
  {
   "metadata": {},
   "cell_type": "markdown",
   "source": "#### Optuna Constants - Samplers",
   "id": "4d829f9d950edab6"
  },
  {
   "metadata": {},
   "cell_type": "code",
   "outputs": [],
   "execution_count": null,
   "source": [
    "RandomSampler = optuna.samplers.RandomSampler()\n",
    "TPESampler = optuna.samplers.TPESampler()\n",
    "PSOSampler = PSOSampler(num_particles=32, max_generations=8)"
   ],
   "id": "8d7e5bad67129847"
  },
  {
   "metadata": {},
   "cell_type": "markdown",
   "source": "#### Optuna Constants - Pruners",
   "id": "1e8ff5959c9f862a"
  },
  {
   "metadata": {},
   "cell_type": "code",
   "outputs": [],
   "execution_count": null,
   "source": [
    "MedianPruner = optuna.pruners.MedianPruner(n_startup_trials=0, n_warmup_steps=4, interval_steps=5, n_min_trials=4)\n",
    "HyperbandPruner = optuna.pruners.HyperbandPruner(min_resource=3, max_resource=30, reduction_factor=3, bootstrap_count=6)"
   ],
   "id": "2ecf8b111eb5d56b"
  },
  {
   "metadata": {},
   "cell_type": "markdown",
   "source": "### Run Optimizations",
   "id": "e76be0c863fa92c5"
  },
  {
   "metadata": {},
   "cell_type": "markdown",
   "source": "#### Random Sampler",
   "id": "4fc2ac8cd8a8c1ac"
  },
  {
   "metadata": {},
   "cell_type": "code",
   "outputs": [],
   "execution_count": null,
   "source": [
    "study_name_Random = 'Random_Sampler'\n",
    "study_Random = optuna_study_creator(study_name=study_name_Random, direction=DIRECTION, \n",
    "                                    sampler=RandomSampler, pruner=MedianPruner)\n",
    "optuna_runner(study_Random, study_name_Random)"
   ],
   "id": "7d120b6e233698bd"
  },
  {
   "metadata": {},
   "cell_type": "markdown",
   "source": "#### TPE Sampler",
   "id": "1a2252409c4180e7"
  },
  {
   "metadata": {},
   "cell_type": "code",
   "outputs": [],
   "execution_count": null,
   "source": [
    "study_name_TPE = 'TPE_Sampler'\n",
    "study_TPE = optuna_study_creator(study_name=study_name_TPE, direction=DIRECTION, \n",
    "                                 sampler=TPESampler, pruner=HyperbandPruner)\n",
    "optuna_runner(study_TPE, study_name_TPE)"
   ],
   "id": "a4a84bf9ba8826ff"
  },
  {
   "metadata": {},
   "cell_type": "markdown",
   "source": "#### PSO Sampler",
   "id": "3a531737dc15854e"
  },
  {
   "metadata": {},
   "cell_type": "code",
   "outputs": [],
   "execution_count": null,
   "source": [
    "study_name_PSO = 'PSO_Sampler'\n",
    "study_PSO = optuna_study_creator(study_name=study_name_PSO, direction=DIRECTION,\n",
    "                                 sampler=PSOSampler, pruner=HyperbandPruner)\n",
    "optuna_runner(study_PSO, study_name_PSO)"
   ],
   "id": "c9af16f3c682cc79"
  },
  {
   "metadata": {},
   "cell_type": "markdown",
   "source": "## Display Best Results ------[currently broken]",
   "id": "bd3a5d01500ce1a7"
  },
  {
   "metadata": {},
   "cell_type": "code",
   "outputs": [],
   "execution_count": null,
   "source": [
    "# Alias for Best Study\n",
    "best_study = study_TPE"
   ],
   "id": "71d7ab221896fd06"
  },
  {
   "metadata": {},
   "cell_type": "code",
   "outputs": [],
   "execution_count": null,
   "source": [
    "# Init DataLoaders\n",
    "train_loader_best = init_data_loader(train_dataset, batch_size=best_study.best_params['batch_size'])\n",
    "val_loader_best = init_data_loader(val_dataset, batch_size=best_study.best_params['batch_size'])\n",
    "test_loader_best = init_data_loader(test_dataset, batch_size=best_study.best_params['batch_size'])\n",
    "\n",
    "# Init Model\n",
    "best_hidden_layer_sizes = [28*28] + [best_study.best_params[f'hidden_layer_n{i+1}_size'] for i in range(best_study.best_params['num_hidden_layer'])] + [10]\n",
    "best_model_extra_args = {'network_architecture': best_hidden_layer_sizes,\n",
    "                    'activation': get_activation_fn(best_study.best_params['activation_fn'])}\n",
    "best_model = init_model(model_str='MLP', extra_args=best_model_extra_args).to(get_device())\n",
    "\n",
    "# Init Loss and Optimizer\n",
    "loss_fn_best = get_loss_fn(loss_str=best_study.best_params['loss_fn'])\n",
    "optimizer_best = get_optimizer(model=best_model,\n",
    "                               optimizer_str=best_study.best_params['optimizer'],\n",
    "                               learning_rate=best_study.best_params['learning_rate'])\n",
    "\n",
    "# Init Early Stopper\n",
    "early_stopper_best = EarlyStopper(patience=5, mode=\"maximize\")\n",
    "\n",
    "# Init Logger\n",
    "folder_exists_check(OUTPUTS_FOLDER_PATH_TXT, SESSION_NUM, f'log_BEST_STUDY')\n",
    "logger_best_study = Logger(file_name_builder(OUTPUTS_FOLDER_PATH_TXT, SESSION_NUM, f'log_BEST_STUDY', 'txt'))\n",
    "\n",
    "\n",
    "# Train Model\n",
    "full_train_loop(max_epochs=best_study.best_params['max_epochs'],\n",
    "                train_loader=train_loader_best, val_loader=val_loader_best, test_loader=test_loader_best,\n",
    "                model=best_model,\n",
    "                loss_fn=loss_fn_best,\n",
    "                optimizer=optimizer_best,\n",
    "                regularizer=None,\n",
    "                early_stopper=early_stopper_best,\n",
    "                logger=logger_best_study,\n",
    "                trial=None)"
   ],
   "id": "ee1e5d6f0be21ab1"
  },
  {
   "metadata": {},
   "cell_type": "code",
   "outputs": [],
   "execution_count": null,
   "source": "images, y_pred_best, y_test = prediction_loop(test_loader_best, best_model)",
   "id": "bb52cefe86f4248"
  },
  {
   "metadata": {},
   "cell_type": "code",
   "outputs": [],
   "execution_count": null,
   "source": "display_images(images, y_pred_best, y_test, 50)",
   "id": "8b6338369e093464"
  },
  {
   "metadata": {},
   "cell_type": "markdown",
   "source": "## DB Operations",
   "id": "c76345b2daaaf8f"
  },
  {
   "metadata": {},
   "cell_type": "markdown",
   "source": "### Copy Study to from other DB",
   "id": "6a7e063f5357e554"
  },
  {
   "metadata": {},
   "cell_type": "code",
   "outputs": [],
   "execution_count": 11,
   "source": "optuna_study_creator.copy_study_into_new_db('TPE_Sampler', \"012\", EXPERIMENT_NAME + '_temp')",
   "id": "da5180e82eebf245"
  },
  {
   "metadata": {},
   "cell_type": "markdown",
   "source": "### Delete Study from DB",
   "id": "dde84f52db536a99"
  },
  {
   "metadata": {},
   "cell_type": "code",
   "outputs": [],
   "execution_count": null,
   "source": [
    "raise Exception('Delete Study from DB')\n",
    "# study_name_to_delete = ''\n",
    "session_to_delete = '012'\n",
    "optuna_study_creator.delete_study_from_db(study_name_to_delete, session_to_delete)"
   ],
   "id": "3f416e8ca171cd1"
  },
  {
   "metadata": {},
   "cell_type": "markdown",
   "source": "### Load Unfinished Study from DB",
   "id": "98d24b7d7d62aad0"
  },
  {
   "metadata": {},
   "cell_type": "code",
   "outputs": [],
   "execution_count": null,
   "source": "unfinished_study = optuna_study_creator.load_study_from_db(study_name_Random, SESSION_NUM)",
   "id": "78eef27613373090"
  }
 ],
 "metadata": {
  "kernelspec": {
   "display_name": "Python 3",
   "language": "python",
   "name": "python3"
  },
  "language_info": {
   "codemirror_mode": {
    "name": "ipython",
    "version": 2
   },
   "file_extension": ".py",
   "mimetype": "text/x-python",
   "name": "python",
   "nbconvert_exporter": "python",
   "pygments_lexer": "ipython2",
   "version": "2.7.6"
  }
 },
 "nbformat": 4,
 "nbformat_minor": 5
}
