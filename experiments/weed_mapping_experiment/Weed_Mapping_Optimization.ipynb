{
 "cells": [
  {
   "metadata": {},
   "cell_type": "markdown",
   "source": "# Weed Mapping Optuna Optimization",
   "id": "7367a052a446a417"
  },
  {
   "metadata": {},
   "cell_type": "markdown",
   "source": "## Environment Setup",
   "id": "7bbc5f7e58a1a999"
  },
  {
   "metadata": {},
   "cell_type": "markdown",
   "source": "### Import Dependencies",
   "id": "143f308c81949e02"
  },
  {
   "metadata": {},
   "cell_type": "code",
   "outputs": [],
   "execution_count": null,
   "source": [
    "import optuna\n",
    "from optuna import Trial\n",
    "\n",
    "import warnings\n",
    "warnings.filterwarnings('ignore')\n",
    "\n",
    "import logging\n",
    "logging.getLogger('optuna').setLevel(logging.WARNING)\n",
    "\n",
    "import sys\n",
    "sys.path.insert(0, '..')\n",
    "sys.path.insert(0, '../..')\n",
    "\n",
    "from utils.persistency.logger import Logger\n",
    "\n",
    "from utils.dataset.build_dataset import load_weedmap_data\n",
    "from utils.dataset.build_dataloader import init_data_loaders_weedmapping\n",
    "\n",
    "from utils.training.train_loop import full_train_loop, full_train_loop_weedmapping\n",
    "from utils.model.model_utils import init_model\n",
    "from utils.optimization.early_stopper import EarlyStopper\n",
    "from utils.optimization.regularizer import Regularizer, Regularizer_WeedMapping, MODEL_ARCHITECTURES_WEEDMAPPING\n",
    "from utils.misc.device import get_device\n",
    "from utils.model.model_utils import get_activation_fn, get_loss_fn, get_optimizer\n",
    "from utils.optimization.optuna_runner import OptunaRunner\n",
    "from utils.display_results.display_results import prediction_loop\n",
    "from utils.display_results.display_results import display_images"
   ],
   "id": "789b298374bc98e0"
  },
  {
   "metadata": {},
   "cell_type": "markdown",
   "source": "### Init Session",
   "id": "34ac4655a08e75d6"
  },
  {
   "metadata": {},
   "cell_type": "code",
   "outputs": [],
   "execution_count": null,
   "source": "session_num = '000'",
   "id": "243a22b78a20c33b"
  },
  {
   "metadata": {},
   "cell_type": "code",
   "outputs": [],
   "execution_count": null,
   "source": [
    "outputs_folder_path_csv = 'output_files_weed_mapping/csv'\n",
    "outputs_folder_path_txt = 'output_files_weed_mapping/txt'"
   ],
   "id": "8caa0fe1e211150c"
  },
  {
   "metadata": {},
   "cell_type": "markdown",
   "source": "## Load Data",
   "id": "c8439874f2107113"
  },
  {
   "metadata": {},
   "cell_type": "code",
   "outputs": [],
   "execution_count": null,
   "source": "weed_mapping_dataset = load_weedmap_data()",
   "id": "b0a863d6aedfbc71"
  },
  {
   "metadata": {},
   "cell_type": "code",
   "outputs": [],
   "execution_count": null,
   "source": [
    "# _tuple = init_data_loaders_weedmapping(weed_mapping_dataset, batch_size_train=6, batch_size_val=12, batch_size_test=12)\n",
    "# train_loader, val_loader, test_loader = _tuple"
   ],
   "id": "229aae70e80475cb"
  },
  {
   "metadata": {},
   "cell_type": "markdown",
   "source": "## Optuna Optimization",
   "id": "dc200ba57f313ba4"
  },
  {
   "metadata": {},
   "cell_type": "markdown",
   "source": "### Define Objective Function",
   "id": "a4015186fef41ab1"
  },
  {
   "metadata": {},
   "cell_type": "code",
   "outputs": [],
   "execution_count": null,
   "source": [
    "def objective(trial: Trial, logger: Logger):\n",
    "    # Define Hyperparameters - Structure HPs\n",
    "    backbone_str = trial.suggest_categorical('backbone', [s for s in MODEL_ARCHITECTURES_WEEDMAPPING.keys()])\n",
    "\n",
    "    # Define Hyperparameters - Batch Sizes\n",
    "    batch_size_train = trial.suggest_int('batch_size_train', 4, 8, 2)\n",
    "    batch_size_val = trial.suggest_int('batch_size_val', 6, 12, 6)\n",
    "\n",
    "    # Define Hyperparameters - Training HPs\n",
    "    learning_rate = trial.suggest_float('learning_rate', 1e-4, 1e-1, log=True)\n",
    "    optimizer_str = trial.suggest_categorical('optimizer', ['SGD', 'Adam'])\n",
    "\n",
    "    # Define Hyperparameters - Loss Function\n",
    "    loss_gamma = trial.suggest_float('loss_gamma', 0.5, 5.0, log=True)\n",
    "    loss_weight = [trial.suggest_float(f'loss_weight_{i+1}', 0.1, 2.0, log=True) for i in range(3)]\n",
    "\n",
    "    # Define Hyperparameters - Epochs\n",
    "    max_epochs = trial.suggest_int('max_epochs', 100, 100)\n",
    "\n",
    "\n",
    "    # Init DataLoaders\n",
    "    train_loader, val_loader, test_loader = init_data_loaders_weedmapping(dataset=weed_mapping_dataset,\n",
    "                                                                          batch_size_train=batch_size_train,\n",
    "                                                                          batch_size_val=batch_size_val,\n",
    "                                                                          batch_size_test=batch_size_val)\n",
    "    \n",
    "    # Init Model\n",
    "    model_extra_args = {\"backbone\": backbone_str, \"input_channels\": 5}\n",
    "    model = init_model(model_str='Lawin', extra_args=model_extra_args).to(get_device())\n",
    "\n",
    "    # Init Loss\n",
    "    focal_extra_args = {\"gamma\": loss_gamma, \"weight\": loss_weight}\n",
    "    loss_fn = get_loss_fn(loss_str='FocalLoss', extra_args=focal_extra_args)\n",
    "    \n",
    "    # Init Optimizer\n",
    "    optimizer = get_optimizer(model=model, optimizer_str=optimizer_str, learning_rate=learning_rate)\n",
    "\n",
    "    # Init Regularizer\n",
    "    regularizer = Regularizer_WeedMapping(lambda_depths=0.1, lambda_widths=0.4, max_sum_depths=8, max_sum_widths=1024)\n",
    "\n",
    "    # Init Early Stopper\n",
    "    early_stopper = EarlyStopper(patience=15, mode=\"maximize\")\n",
    "    \n",
    "    \n",
    "    # Perform Training\n",
    "    optim_score = full_train_loop_weedmapping(max_epochs=max_epochs,\n",
    "                                              train_loader=train_loader, val_loader=val_loader, test_loader=test_loader,\n",
    "                                              model=model,\n",
    "                                              backbone_str=backbone_str,\n",
    "                                              loss_fn=loss_fn,\n",
    "                                              optimizer=optimizer,\n",
    "                                              regularizer=regularizer,\n",
    "                                              early_stopper=early_stopper,\n",
    "                                              logger=logger,\n",
    "                                              trial=trial)\n",
    "    \n",
    "    return optim_score"
   ],
   "id": "cc1eba04cc7f3d36"
  },
  {
   "metadata": {},
   "cell_type": "markdown",
   "source": "#### Optuna Constants - Study Parameters",
   "id": "b6e35ca76cb22bbc"
  },
  {
   "metadata": {},
   "cell_type": "code",
   "outputs": [],
   "execution_count": null,
   "source": "ATTRS = ('number', 'value', 'user_attrs', 'state', 'params', 'duration', 'datetime_start', 'datetime_complete')",
   "id": "3ac9eebb4545a40d"
  },
  {
   "metadata": {},
   "cell_type": "code",
   "outputs": [],
   "execution_count": null,
   "source": "DIRECTION = 'maximize'",
   "id": "81e1e407a7e26e58"
  },
  {
   "metadata": {},
   "cell_type": "code",
   "outputs": [],
   "execution_count": null,
   "source": [
    "optuna_runner = OptunaRunner(objective_fn=objective,\n",
    "                             n_jobs=-1,\n",
    "                             n_trials=32,\n",
    "                             path_csv=outputs_folder_path_csv,\n",
    "                             path_txt=outputs_folder_path_txt,\n",
    "                             session_num=session_num,\n",
    "                             metric_to_follow='f1',\n",
    "                             attrs=ATTRS)"
   ],
   "id": "ad7385a655d624dd"
  },
  {
   "metadata": {},
   "cell_type": "markdown",
   "source": "#### Optuna Constants - Samplers",
   "id": "90a871ac233d80c9"
  },
  {
   "metadata": {},
   "cell_type": "code",
   "outputs": [],
   "execution_count": null,
   "source": [
    "RandomSampler = optuna.samplers.RandomSampler()\n",
    "TPESampler = optuna.samplers.TPESampler()"
   ],
   "id": "814e9b034d4e75d7"
  },
  {
   "metadata": {},
   "cell_type": "markdown",
   "source": "#### Optuna Constants - Pruners",
   "id": "22e12b729f450263"
  },
  {
   "metadata": {},
   "cell_type": "code",
   "outputs": [],
   "execution_count": null,
   "source": [
    "MedianPruner = optuna.pruners.MedianPruner(n_startup_trials=0, n_warmup_steps=5, interval_steps=10, n_min_trials=4)\n",
    "HyperbandPruner = optuna.pruners.HyperbandPruner(min_resource=3, max_resource=20, reduction_factor=3, bootstrap_count=4)"
   ],
   "id": "4229f1264530e0d1"
  },
  {
   "metadata": {},
   "cell_type": "markdown",
   "source": "### Run Optimizations",
   "id": "810bf252564a7195"
  },
  {
   "metadata": {},
   "cell_type": "markdown",
   "source": "#### Random Sampler",
   "id": "eb57b3af40114294"
  },
  {
   "metadata": {},
   "cell_type": "code",
   "outputs": [],
   "execution_count": null,
   "source": [
    "study_Random = optuna.create_study(direction=DIRECTION, sampler=RandomSampler, pruner=HyperbandPruner)\n",
    "optuna_runner(study_Random, 'Random_Sampler')"
   ],
   "id": "c2f220d5925c0265"
  },
  {
   "metadata": {},
   "cell_type": "markdown",
   "source": "#### TPE Sampler",
   "id": "7f58c22f237d1ac"
  },
  {
   "metadata": {},
   "cell_type": "code",
   "outputs": [],
   "execution_count": null,
   "source": [
    "study_TPE = optuna.create_study(direction=DIRECTION, sampler=TPESampler, pruner=HyperbandPruner)\n",
    "optuna_runner(study_TPE, 'TPE_Sampler')"
   ],
   "id": "204ce9763a9f74b8"
  }
 ],
 "metadata": {
  "kernelspec": {
   "display_name": "Python 3",
   "language": "python",
   "name": "python3"
  },
  "language_info": {
   "codemirror_mode": {
    "name": "ipython",
    "version": 2
   },
   "file_extension": ".py",
   "mimetype": "text/x-python",
   "name": "python",
   "nbconvert_exporter": "python",
   "pygments_lexer": "ipython2",
   "version": "2.7.6"
  }
 },
 "nbformat": 4,
 "nbformat_minor": 5
}
