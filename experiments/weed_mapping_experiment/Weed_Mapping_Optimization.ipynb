{
 "cells": [
  {
   "metadata": {},
   "cell_type": "markdown",
   "source": "# Weed Mapping Optuna Optimization",
   "id": "7367a052a446a417"
  },
  {
   "metadata": {},
   "cell_type": "markdown",
   "source": "## Environment Setup",
   "id": "7bbc5f7e58a1a999"
  },
  {
   "metadata": {},
   "cell_type": "markdown",
   "source": "### Import Dependencies",
   "id": "143f308c81949e02"
  },
  {
   "metadata": {},
   "cell_type": "code",
   "outputs": [],
   "execution_count": null,
   "source": [
    "import optuna\n",
    "from optuna import Trial\n",
    "\n",
    "import warnings\n",
    "warnings.filterwarnings('ignore')\n",
    "\n",
    "import logging\n",
    "logging.getLogger('optuna').setLevel(logging.WARNING)\n",
    "\n",
    "import sys\n",
    "sys.path.insert(0, '..')\n",
    "sys.path.insert(0, '../..')\n",
    "# sys.path.insert(0, '../code/Users/f.chinnicarella/src/root_workspace/Bachelor-Thesis')\n",
    "\n",
    "\n",
    "from utils.persistency.logger import Logger\n",
    "\n",
    "from utils.dataset.build_dataset import load_weedmap_data\n",
    "from utils.dataset.build_dataloader import init_data_loaders_weedmapping\n",
    "\n",
    "from utils.training.train_loop import full_train_loop\n",
    "from utils.model.model_utils import init_model\n",
    "from utils.optimization.early_stopper import EarlyStopper\n",
    "from utils.optimization.regularizer import Regularizer_WeedMapping, MODEL_ARCHITECTURES_WEEDMAPPING\n",
    "from utils.misc.device import get_device\n",
    "from utils.model.model_utils import get_loss_fn, get_optimizer\n",
    "from utils.optuna_utils.optuna_runner import OptunaRunner\n",
    "from utils.optuna_utils.optuna_study_creator import OptunaStudyCreator\n",
    "from utils.optuna_utils.pso_sampler import PSOSampler"
   ],
   "id": "789b298374bc98e0"
  },
  {
   "metadata": {},
   "cell_type": "markdown",
   "source": "### Init Session",
   "id": "34ac4655a08e75d6"
  },
  {
   "metadata": {},
   "cell_type": "code",
   "outputs": [],
   "execution_count": null,
   "source": "EXPERIMENT_NAME = 'Weed_Mapping_Optuna_Optimization'",
   "id": "d2fab15a590cdb34"
  },
  {
   "metadata": {},
   "cell_type": "code",
   "outputs": [],
   "execution_count": null,
   "source": "SESSION_NUM = '000'",
   "id": "243a22b78a20c33b"
  },
  {
   "metadata": {},
   "cell_type": "code",
   "outputs": [],
   "execution_count": null,
   "source": [
    "OUTPUTS_FOLDER_PATH_CSV = 'output_files_weed_mapping/csv'\n",
    "OUTPUTS_FOLDER_PATH_TXT = 'output_files_weed_mapping/txt'\n",
    "OUTPUTS_FOLDER_PATH_DB = 'output_files_weed_mapping/db'"
   ],
   "id": "8caa0fe1e211150c"
  },
  {
   "metadata": {},
   "cell_type": "markdown",
   "source": "## Load Data",
   "id": "c8439874f2107113"
  },
  {
   "metadata": {},
   "cell_type": "code",
   "outputs": [],
   "execution_count": null,
   "source": "weed_mapping_dataset = load_weedmap_data()",
   "id": "b0a863d6aedfbc71"
  },
  {
   "metadata": {},
   "cell_type": "markdown",
   "source": "## Optuna Optimization",
   "id": "dc200ba57f313ba4"
  },
  {
   "metadata": {},
   "cell_type": "markdown",
   "source": "### Define Objective Function",
   "id": "a4015186fef41ab1"
  },
  {
   "metadata": {},
   "cell_type": "code",
   "outputs": [],
   "execution_count": null,
   "source": [
    "def objective(trial: Trial, logger: Logger):\n",
    "    # Define Hyperparameters - Structure HPs\n",
    "    backbone_str = trial.suggest_categorical('backbone', [s for s in MODEL_ARCHITECTURES_WEEDMAPPING.keys()])\n",
    "    # backbone_str = 'MiT-B0'\n",
    "\n",
    "    # Define Hyperparameters - Training HPs - Batch Sizes\n",
    "    # batch_size_train = trial.suggest_int('batch_size_train', 4, 8, 2)\n",
    "    # batch_size_val = trial.suggest_int('batch_size_val', 6, 12, 6)\n",
    "    batch_size_train = 4\n",
    "    batch_size_val = 4\n",
    "\n",
    "    # Define Hyperparameters - Training HPs - Learning Rate\n",
    "    learning_rate = trial.suggest_float('learning_rate', 1e-4, 1e-2, log=True)\n",
    "    # learning_rate = 1e-3\n",
    "    \n",
    "    # Define Hyperparameters - Training HPs - Optimizer\n",
    "    optimizer_str = trial.suggest_categorical('optimizer', ['SGD', 'Adam'])\n",
    "    # optimizer_str = 'Adam'\n",
    "\n",
    "    # Define Hyperparameters - Training HPs - Loss Function Parameters\n",
    "    # loss_gamma = trial.suggest_float('loss_gamma', 0.5, 5.0, log=True)\n",
    "    # loss_weight = [trial.suggest_float(f'loss_weight_{i+1}', 0.1, 2.0, log=True) for i in range(3)]\n",
    "    loss_gamma = 2.0\n",
    "    loss_weight = [0.06, 1.0, 1.7]\n",
    "\n",
    "    # Define Hyperparameters - Max Epochs\n",
    "    max_epochs = 200\n",
    "\n",
    "\n",
    "    # Init DataLoaders\n",
    "    train_loader, val_loader, test_loader = init_data_loaders_weedmapping(dataset=weed_mapping_dataset,\n",
    "                                                                          batch_size_train=batch_size_train,\n",
    "                                                                          batch_size_val=batch_size_val,\n",
    "                                                                          batch_size_test=batch_size_val)\n",
    "    \n",
    "    # Init Model\n",
    "    model_extra_args = {\"backbone\": backbone_str, \"input_channels\": 5}\n",
    "    model = init_model(model_str='Lawin', extra_args=model_extra_args).to(get_device())\n",
    "\n",
    "    # Init Loss\n",
    "    focal_extra_args = {\"gamma\": loss_gamma, \"weight\": loss_weight}\n",
    "    loss_fn = get_loss_fn(loss_str='Focal', extra_args=focal_extra_args)\n",
    "    \n",
    "    # Init Optimizer\n",
    "    optimizer = get_optimizer(model=model, optimizer_str=optimizer_str, learning_rate=learning_rate)\n",
    "\n",
    "    # Init Regularizer\n",
    "    regularizer = Regularizer_WeedMapping(lambda_widths=0.4, max_sum_widths=1024)\n",
    "\n",
    "    # Init Early Stopper\n",
    "    early_stopper = EarlyStopper(patience=15, mode=\"maximize\")\n",
    "    \n",
    "    \n",
    "    # Perform Training\n",
    "    optim_score = full_train_loop(max_epochs=max_epochs,\n",
    "                                              train_loader=train_loader, val_loader=val_loader, test_loader=test_loader,\n",
    "                                              model=model,\n",
    "                                              loss_fn=loss_fn,\n",
    "                                              optimizer=optimizer,\n",
    "                                              regularizer=regularizer,\n",
    "                                              early_stopper=early_stopper,\n",
    "                                              logger=logger,\n",
    "                                              trial=trial)\n",
    "    \n",
    "    return optim_score"
   ],
   "id": "cc1eba04cc7f3d36"
  },
  {
   "metadata": {},
   "cell_type": "markdown",
   "source": "#### Optuna Constants - Study Parameters",
   "id": "b6e35ca76cb22bbc"
  },
  {
   "metadata": {},
   "cell_type": "code",
   "outputs": [],
   "execution_count": null,
   "source": "ATTRS = ('number', 'value', 'user_attrs', 'state', 'params', 'duration', 'datetime_start', 'datetime_complete')",
   "id": "3ac9eebb4545a40d"
  },
  {
   "metadata": {},
   "cell_type": "code",
   "outputs": [],
   "execution_count": null,
   "source": "DIRECTION = 'maximize'",
   "id": "81e1e407a7e26e58"
  },
  {
   "metadata": {},
   "cell_type": "code",
   "outputs": [],
   "execution_count": null,
   "source": [
    "optuna_runner = OptunaRunner(objective_fn=objective,\n",
    "                             n_jobs=2,\n",
    "                             n_trials=64,\n",
    "                             path_csv=OUTPUTS_FOLDER_PATH_CSV,\n",
    "                             path_txt=OUTPUTS_FOLDER_PATH_TXT,\n",
    "                             session_num=SESSION_NUM,\n",
    "                             metric_to_follow='f1',\n",
    "                             attrs=ATTRS)"
   ],
   "id": "ad7385a655d624dd"
  },
  {
   "metadata": {},
   "cell_type": "code",
   "outputs": [],
   "execution_count": null,
   "source": [
    "optuna_study_creator = OptunaStudyCreator(experiment_name=EXPERIMENT_NAME,\n",
    "                                          path_db=OUTPUTS_FOLDER_PATH_DB,\n",
    "                                          session_num=SESSION_NUM,\n",
    "                                          use_storage=True)"
   ],
   "id": "f12d57ce757c9a81"
  },
  {
   "metadata": {},
   "cell_type": "markdown",
   "source": "#### Optuna Constants - Samplers",
   "id": "90a871ac233d80c9"
  },
  {
   "metadata": {},
   "cell_type": "code",
   "outputs": [],
   "execution_count": null,
   "source": [
    "RandomSampler = optuna.samplers.RandomSampler()\n",
    "TPESampler = optuna.samplers.TPESampler()\n",
    "PSOSampler = PSOSampler(num_particles=8, max_generations=8)"
   ],
   "id": "814e9b034d4e75d7"
  },
  {
   "metadata": {},
   "cell_type": "markdown",
   "source": "#### Optuna Constants - Pruners",
   "id": "22e12b729f450263"
  },
  {
   "metadata": {},
   "cell_type": "code",
   "outputs": [],
   "execution_count": null,
   "source": [
    "MedianPruner = optuna.pruners.MedianPruner(n_startup_trials=0, n_warmup_steps=5, interval_steps=25, n_min_trials=4)\n",
    "HyperbandPruner = optuna.pruners.HyperbandPruner(min_resource=10, max_resource=200, reduction_factor=3, bootstrap_count=4)"
   ],
   "id": "4229f1264530e0d1"
  },
  {
   "metadata": {},
   "cell_type": "markdown",
   "source": "### Run Optimizations",
   "id": "810bf252564a7195"
  },
  {
   "metadata": {},
   "cell_type": "markdown",
   "source": "#### Random Sampler",
   "id": "eb57b3af40114294"
  },
  {
   "metadata": {},
   "cell_type": "code",
   "outputs": [],
   "execution_count": null,
   "source": [
    "study_name_Random = 'Random_Sampler'\n",
    "study_Random = optuna_study_creator(study_name=study_name_Random, direction=DIRECTION,\n",
    "                                    sampler=RandomSampler, pruner=MedianPruner)\n",
    "optuna_runner(study_Random, study_name_Random)"
   ],
   "id": "c2f220d5925c0265"
  },
  {
   "metadata": {},
   "cell_type": "markdown",
   "source": "#### TPE Sampler",
   "id": "7f58c22f237d1ac"
  },
  {
   "metadata": {},
   "cell_type": "code",
   "outputs": [],
   "execution_count": null,
   "source": [
    "study_name_TPE = 'TPE_Sampler'\n",
    "study_TPE = optuna_study_creator(study_name=study_name_TPE, direction=DIRECTION,\n",
    "                                 sampler=TPESampler, pruner=HyperbandPruner)\n",
    "optuna_runner(study_TPE, study_name_TPE)"
   ],
   "id": "204ce9763a9f74b8"
  },
  {
   "metadata": {},
   "cell_type": "markdown",
   "source": "#### PSO Sampler",
   "id": "5129da7a3593e5f2"
  },
  {
   "metadata": {},
   "cell_type": "code",
   "outputs": [],
   "execution_count": null,
   "source": [
    "study_name_PSO = 'PSO_Sampler'\n",
    "study_PSO = optuna_study_creator(study_name=study_name_PSO, direction=DIRECTION,\n",
    "                                 sampler=PSOSampler, pruner=HyperbandPruner)\n",
    "optuna_runner(study_PSO, study_name_PSO)"
   ],
   "id": "7c3dafe356e3da5d"
  },
  {
   "metadata": {},
   "cell_type": "markdown",
   "source": "## Single Execution",
   "id": "27cb1a36dc0cc8b8"
  },
  {
   "metadata": {},
   "cell_type": "code",
   "outputs": [],
   "execution_count": null,
   "source": [
    "def single_execution(logger: Logger):\n",
    "    # With batches 6 and 12; used memory seems to depend also on congestion of GPU\n",
    "    # MiT-B0 = 4184 Mib\n",
    "    # MiT-B1 = 5628 Mib\n",
    "    # MiT-LD = 4616 Mib\n",
    "    # MiT-L0 = 4596 Mib\n",
    "    # MiT-L1 = 4592 Mib\n",
    "    # MiT-L2 = 4582 Mib\n",
    "    \n",
    "    # Define Hyperparameters - Structure HPs\n",
    "    backbone_str = 'MiT-B0'     # 'MiT-B0', 'MiT-B1', 'MiT-LD', 'MiT-L0', 'MiT-L1', 'MiT-L2'\n",
    "\n",
    "    # Define Hyperparameters - Batch Sizes\n",
    "    batch_size_train = 4\n",
    "    batch_size_val = 4\n",
    "\n",
    "    # Define Hyperparameters - Training HPs\n",
    "    learning_rate = 1e-3\n",
    "    optimizer_str = 'Adam'\n",
    "\n",
    "    # Define Hyperparameters - Loss Function\n",
    "    loss_gamma = 2.0\n",
    "    loss_weight = [0.06, 1.0, 1.7]\n",
    "\n",
    "    # Define Hyperparameters - Epochs\n",
    "    max_epochs = 200\n",
    "\n",
    "    # Init DataLoaders\n",
    "    train_loader, val_loader, test_loader = init_data_loaders_weedmapping(dataset=weed_mapping_dataset,\n",
    "                                                                          batch_size_train=batch_size_train,\n",
    "                                                                          batch_size_val=batch_size_val,\n",
    "                                                                          batch_size_test=batch_size_val)\n",
    "\n",
    "    # Init Model\n",
    "    model_extra_args = {\"backbone\": backbone_str, \"input_channels\": 5}\n",
    "    model = init_model(model_str='Lawin', extra_args=model_extra_args).to(get_device())\n",
    "\n",
    "    # Init Loss\n",
    "    focal_extra_args = {\"gamma\": loss_gamma, \"weight\": loss_weight}\n",
    "    loss_fn = get_loss_fn(loss_str='Focal', extra_args=focal_extra_args)\n",
    "\n",
    "    # Init Optimizer\n",
    "    optimizer = get_optimizer(model=model, optimizer_str=optimizer_str, learning_rate=learning_rate)\n",
    "\n",
    "    # Init Early Stopper\n",
    "    early_stopper = EarlyStopper(patience=15, mode=\"maximize\")\n",
    "\n",
    "    # Perform Training\n",
    "    optim_score = full_train_loop(max_epochs=max_epochs,\n",
    "                                  train_loader=train_loader, val_loader=val_loader, test_loader=test_loader,\n",
    "                                  model=model,\n",
    "                                  loss_fn=loss_fn,\n",
    "                                  optimizer=optimizer,\n",
    "                                  regularizer=None,\n",
    "                                  early_stopper=early_stopper,\n",
    "                                  logger=logger,\n",
    "                                  trial=None)\n",
    "\n",
    "    return optim_score"
   ],
   "id": "940d96501081a53e"
  },
  {
   "metadata": {},
   "cell_type": "code",
   "outputs": [],
   "execution_count": null,
   "source": [
    "from utils.persistency.file_name_builder import folder_exists_check, file_name_builder\n",
    "\n",
    "folder_exists_check(OUTPUTS_FOLDER_PATH_TXT, SESSION_NUM, f'log_SINGLE_EXECUTION')\n",
    "logger_single = Logger(file_name_builder(OUTPUTS_FOLDER_PATH_TXT, SESSION_NUM, f'log_SINGLE_EXECUTION', 'txt'))"
   ],
   "id": "3cb9b6737c9b26a8"
  },
  {
   "metadata": {},
   "cell_type": "code",
   "outputs": [],
   "execution_count": null,
   "source": "single_execution(logger_single)",
   "id": "1ce5c85ab0f982a1"
  },
  {
   "metadata": {},
   "cell_type": "markdown",
   "source": "## DB Operations",
   "id": "96f2ceeebe7486d2"
  },
  {
   "metadata": {},
   "cell_type": "markdown",
   "source": "### Copy Study to from other DB",
   "id": "db736f307ddbf7d1"
  },
  {
   "metadata": {},
   "cell_type": "code",
   "outputs": [],
   "execution_count": 11,
   "source": "optuna_study_creator.copy_study_into_new_db('TPE_Sampler', \"012\", EXPERIMENT_NAME + '_temp')",
   "id": "e820680469705355"
  },
  {
   "metadata": {},
   "cell_type": "markdown",
   "source": "### Delete Study from DB",
   "id": "a6837a29bf254e68"
  },
  {
   "metadata": {},
   "cell_type": "code",
   "outputs": [],
   "execution_count": null,
   "source": [
    "raise Exception('Delete Study from DB')\n",
    "study_name_to_delete = ''\n",
    "session_to_delete = '015'\n",
    "optuna_study_creator.delete_study_from_db(study_name_to_delete, session_to_delete)"
   ],
   "id": "14401611ddbcdc4e"
  },
  {
   "metadata": {},
   "cell_type": "markdown",
   "source": "### Load Unfinished Study from DB",
   "id": "3b127c5f405e1730"
  },
  {
   "metadata": {},
   "cell_type": "code",
   "outputs": [],
   "execution_count": null,
   "source": "unfinished_study = optuna_study_creator.load_study_from_db(study_name_Random, SESSION_NUM)",
   "id": "609b0de0294dd54a"
  }
 ],
 "metadata": {
  "kernelspec": {
   "display_name": "Python 3",
   "language": "python",
   "name": "python3"
  },
  "language_info": {
   "codemirror_mode": {
    "name": "ipython",
    "version": 2
   },
   "file_extension": ".py",
   "mimetype": "text/x-python",
   "name": "python",
   "nbconvert_exporter": "python",
   "pygments_lexer": "ipython2",
   "version": "2.7.6"
  }
 },
 "nbformat": 4,
 "nbformat_minor": 5
}
