{
 "cells": [
  {
   "metadata": {},
   "cell_type": "markdown",
   "source": "# Particle Swarm Optimization - Weed Mapping",
   "id": "481df03dc7d9f3b2"
  },
  {
   "metadata": {},
   "cell_type": "markdown",
   "source": "## Environment Setup",
   "id": "b1ae09472234e546"
  },
  {
   "metadata": {},
   "cell_type": "markdown",
   "source": "### Import Dependencies",
   "id": "d668ed5b2a0bcc52"
  },
  {
   "metadata": {},
   "cell_type": "code",
   "execution_count": null,
   "source": [
    "import warnings\n",
    "warnings.filterwarnings('ignore')\n",
    "\n",
    "import sys\n",
    "sys.path.insert(0, '..')\n",
    "sys.path.insert(0, '../..')\n",
    "# sys.path.insert(0, '../code/Users/f.chinnicarella/src/root_workspace/Bachelor-Thesis')\n",
    "\n",
    "from utils.persistency.logger import Logger\n",
    "\n",
    "from utils.dataset.build_dataset import load_weedmap_data\n",
    "from utils.dataset.build_dataloader import init_data_loaders_weedmapping\n",
    "\n",
    "from backend.pso_train_loop import pso_full_train_loop\n",
    "from utils.model.model_utils import init_model\n",
    "from utils.optimization.early_stopper import EarlyStopper\n",
    "from utils.optimization.regularizer import MODEL_ARCHITECTURES_WEEDMAPPING\n",
    "from utils.optimization.regularizer import Regularizer_WeedMapping\n",
    "from utils.misc.device import get_device\n",
    "from utils.model.model_utils import get_loss_fn, get_optimizer\n",
    "from experiments.PSO_experiment.backend.PSO import PSO, PSOTrial\n",
    "from experiments.PSO_experiment.backend.pso_utils import decode_hyperparameter, build_encoded_dict\n",
    "from experiments.PSO_experiment.backend.pso_utils import BACKBONE_BOUNDS, OPTIMIZER_BOUNDS\n",
    "from experiments.PSO_experiment.backend.pso_runner import PSORunner\n",
    "from experiments.PSO_experiment.backend.pso_pruners import PSOMedianPruner"
   ],
   "id": "7d23050dab2f0bd9",
   "outputs": []
  },
  {
   "metadata": {},
   "cell_type": "markdown",
   "source": "### Init Session",
   "id": "b2e5afd5057ac1"
  },
  {
   "metadata": {},
   "cell_type": "code",
   "execution_count": null,
   "source": "session_num = '000'",
   "id": "95d69f83b62cc812",
   "outputs": []
  },
  {
   "metadata": {},
   "cell_type": "code",
   "execution_count": null,
   "source": [
    "outputs_folder_path_csv = 'output_files_PSO_WeedMapping/csv'\n",
    "outputs_folder_path_txt = 'output_files_PSO_WeedMapping/txt'"
   ],
   "id": "7abf2b0a63608d5a",
   "outputs": []
  },
  {
   "metadata": {},
   "cell_type": "markdown",
   "source": "## Load Data",
   "id": "1b532605d1bf2d44"
  },
  {
   "metadata": {},
   "cell_type": "code",
   "execution_count": null,
   "source": "weed_mapping_dataset = load_weedmap_data()",
   "id": "d988bbaa66dca84c",
   "outputs": []
  },
  {
   "metadata": {},
   "cell_type": "markdown",
   "source": "## Optuna Optimization",
   "id": "4824d4e5e87f60ac"
  },
  {
   "metadata": {},
   "cell_type": "markdown",
   "source": "### Define Objective Function",
   "id": "8acb1e8151935f42"
  },
  {
   "metadata": {},
   "cell_type": "code",
   "execution_count": null,
   "source": [
    "def objective(trial: PSOTrial, logger: Logger):\n",
    "    # Define Hyperparameters - Structure HPs\n",
    "    backbone_str = decode_hyperparameter(build_encoded_dict(trial, BACKBONE_BOUNDS))\n",
    "    # backbone_str = 'MiT-B0'\n",
    "    \n",
    "    network_architecture = MODEL_ARCHITECTURES_WEEDMAPPING[backbone_str]\n",
    "    trial.set_user_attr('network', network_architecture)\n",
    "\n",
    "\n",
    "    # Define Hyperparameters - Training HPs - Batch Sizes\n",
    "    # batch_size_train = round(trial.hyperparameters['batch_size_train'])\n",
    "    # batch_size_val = round(trial.hyperparameters['batch_size_val'])\n",
    "    batch_size_train = 4\n",
    "    batch_size_val = 4\n",
    "\n",
    "    # Define Hyperparameters - Training HPs - Learning Rate\n",
    "    learning_rate = trial.hyperparameters['learning_rate']\n",
    "    # learning_rate = 1e-3\n",
    "    \n",
    "    # Define Hyperparameters - Training HPs - Optimizer\n",
    "    optimizer_str = decode_hyperparameter(build_encoded_dict(trial, OPTIMIZER_BOUNDS))\n",
    "    # optimizer_str = 'Adam'\n",
    "    trial.set_user_attr('optimizer', optimizer_str)\n",
    "\n",
    "    # Define Hyperparameters - Training HPs - Loss Function\n",
    "    # loss_gamma = round(trial.hyperparameters['loss_gamma'])\n",
    "    # loss_weight = [trial.hyperparameters[f'loss_weight_{i+1}'] for i in range(3)]\n",
    "    loss_gamma = 2.0\n",
    "    loss_weight = [0.06, 1.0, 1.7]\n",
    "\n",
    "    # Define Hyperparameters - Max Epochs\n",
    "    max_epochs = 30\n",
    "\n",
    "\n",
    "    # Init DataLoaders\n",
    "    train_loader, val_loader, test_loader = init_data_loaders_weedmapping(dataset=weed_mapping_dataset,\n",
    "                                                                          batch_size_train=batch_size_train,\n",
    "                                                                          batch_size_val=batch_size_val,\n",
    "                                                                          batch_size_test=batch_size_val)\n",
    "\n",
    "    # Init Model\n",
    "    model_extra_args = {\"backbone\": backbone_str, \"input_channels\": 5}\n",
    "    model = init_model(model_str='Lawin', extra_args=model_extra_args).to(get_device())\n",
    "\n",
    "    # Init Loss\n",
    "    focal_extra_args = {\"gamma\": loss_gamma, \"weight\": loss_weight}\n",
    "    loss_fn = get_loss_fn(loss_str='Focal', extra_args=focal_extra_args)\n",
    "    \n",
    "    # Init Optimizer\n",
    "    optimizer = get_optimizer(model=model, optimizer_str=optimizer_str, learning_rate=learning_rate)\n",
    "\n",
    "    # Init Regularizer\n",
    "    regularizer = Regularizer_WeedMapping(lambda_widths=0.4, max_sum_widths=1024)\n",
    "\n",
    "    # Init Early Stopper\n",
    "    early_stopper = EarlyStopper(patience=5, mode=\"maximize\")\n",
    "\n",
    "    # Perform Training\n",
    "    optim_score = pso_full_train_loop(max_epochs=max_epochs,\n",
    "                                      train_loader=train_loader, val_loader=val_loader, test_loader=test_loader,\n",
    "                                      model=model,\n",
    "                                      loss_fn=loss_fn,\n",
    "                                      optimizer=optimizer,\n",
    "                                      regularizer=regularizer,\n",
    "                                      early_stopper=early_stopper,\n",
    "                                      logger=logger,\n",
    "                                      trial=trial)\n",
    "\n",
    "    return optim_score"
   ],
   "id": "ea265dd5cec95dbc",
   "outputs": []
  },
  {
   "metadata": {},
   "cell_type": "markdown",
   "source": "#### PSO Constants",
   "id": "1963e35e381bc5f6"
  },
  {
   "metadata": {},
   "cell_type": "code",
   "execution_count": null,
   "source": "ATTRS = ('generation', 'particle_id', 'hp_num_hidden_layer', 'score', 'user_attrs_epochs', 'user_attrs_network', 'user_attr_accuracy', 'user_attr_precision', 'user_attr_recall', 'user_attr_f1', 'state', 'duration', 'hp_hidden_layer_n1_size', 'hp_hidden_layer_n2_size', 'hp_hidden_layer_n3_size', 'hp_learning_rate' 'datetime_start', 'datetime_complete')",
   "id": "60f844b90903a0f3",
   "outputs": []
  },
  {
   "metadata": {},
   "cell_type": "code",
   "execution_count": null,
   "source": "DIRECTION = 'maximize'",
   "id": "ebb9e42cf8a88d66",
   "outputs": []
  },
  {
   "metadata": {},
   "cell_type": "markdown",
   "source": "### Define Study",
   "id": "ed618674d83f76c5"
  },
  {
   "metadata": {},
   "cell_type": "code",
   "execution_count": null,
   "source": [
    "DYNAMIC_HPs = {\n",
    "    **BACKBONE_BOUNDS,\n",
    "    \n",
    "    # 'batch_size_train': [4, 8],\n",
    "    # 'batch_size_val': [6, 12],\n",
    "\n",
    "    'learning_rate': [1e-4, 1e-2],\n",
    "    **OPTIMIZER_BOUNDS,\n",
    "    \n",
    "    # 'loss_gamma': [0.5, 5.0],\n",
    "    # 'loss_weight_1': [0.1, 2.0],\n",
    "    # 'loss_weight_2': [0.1, 2.0],\n",
    "    # 'loss_weight_3': [0.1, 2.0],\n",
    "}"
   ],
   "id": "994fab86b9145d9b",
   "outputs": []
  },
  {
   "metadata": {},
   "cell_type": "code",
   "execution_count": null,
   "source": "pso_pruner = PSOMedianPruner(n_startup_generations=3, n_warmup_steps=4, interval_steps=4, min_trials_per_step=4)",
   "id": "4554267c565a6797",
   "outputs": []
  },
  {
   "metadata": {},
   "cell_type": "code",
   "execution_count": null,
   "source": "pso = PSO(objective_fn=objective, hps_bounds=DYNAMIC_HPs, num_particles=8, max_generations=10, pruner=None)",
   "id": "cbc6eef3a67a1746",
   "outputs": []
  },
  {
   "metadata": {},
   "cell_type": "markdown",
   "source": "### Run Optimization",
   "id": "3072ae1a6fff84be"
  },
  {
   "metadata": {},
   "cell_type": "code",
   "execution_count": null,
   "source": [
    "pso_runner = PSORunner(path_csv=outputs_folder_path_csv,\n",
    "                       path_txt=outputs_folder_path_txt,\n",
    "                       session_num=session_num,\n",
    "                       n_jobs=2,\n",
    "                       metric_to_follow='f1', attrs=None)"
   ],
   "id": "9a54ef7b228c4adc",
   "outputs": []
  },
  {
   "metadata": {},
   "cell_type": "code",
   "execution_count": null,
   "source": "pso_runner(pso, 'PSO_Optimization_WeedMapping')",
   "id": "9a8b158d788f4750",
   "outputs": []
  }
 ],
 "metadata": {
  "kernelspec": {
   "display_name": "Python 3",
   "language": "python",
   "name": "python3"
  },
  "language_info": {
   "codemirror_mode": {
    "name": "ipython",
    "version": 2
   },
   "file_extension": ".py",
   "mimetype": "text/x-python",
   "name": "python",
   "nbconvert_exporter": "python",
   "pygments_lexer": "ipython2",
   "version": "2.7.6"
  }
 },
 "nbformat": 4,
 "nbformat_minor": 5
}
