{
 "cells": [
  {
   "metadata": {},
   "cell_type": "markdown",
   "source": "# PSO Optuna Optimization",
   "id": "9ed50e7082bfa3eb"
  },
  {
   "metadata": {},
   "cell_type": "markdown",
   "source": "## Environment Setup",
   "id": "39b73b0fc0f75feb"
  },
  {
   "metadata": {},
   "cell_type": "markdown",
   "source": "### Import Dependencies",
   "id": "9071ba12c24e044"
  },
  {
   "metadata": {},
   "cell_type": "code",
   "source": [
    "import optuna\n",
    "from optuna import Trial\n",
    "\n",
    "import warnings\n",
    "warnings.filterwarnings('ignore') \n",
    "\n",
    "import logging\n",
    "logging.getLogger('optuna').setLevel(logging.WARNING) \n",
    "\n",
    "import sys\n",
    "sys.path.insert(0, '..')\n",
    "sys.path.insert(0, '../..')\n",
    "# sys.path.insert(0, '../code/Users/f.chinnicarella/src/root_workspace/Bachelor-Thesis')\n",
    "\n",
    "from utils.persistency.logger import Logger\n",
    "\n",
    "from utils.dataset.build_dataset import load_MNIST_data\n",
    "from utils.dataset.build_dataloader import init_data_loader\n",
    "\n",
    "from utils.training.train_loop import full_train_loop\n",
    "from utils.model.model_utils import init_model\n",
    "from utils.optimization.early_stopper import EarlyStopper\n",
    "from utils.optimization.regularizer import Regularizer\n",
    "from utils.misc.device import get_device\n",
    "from utils.model.model_utils import get_activation_fn, get_loss_fn, get_optimizer\n",
    "from utils.optuna_utils.optuna_runner import OptunaRunner\n",
    "from utils.optuna_utils.pso_sampler import PSOSampler\n",
    "from utils.optuna_utils.optuna_study_creator import OptunaStudyCreator"
   ],
   "id": "853e8f3ba038025",
   "outputs": [],
   "execution_count": null
  },
  {
   "metadata": {},
   "cell_type": "markdown",
   "source": "### Init Session",
   "id": "56b01dc8ad06615f"
  },
  {
   "metadata": {},
   "cell_type": "code",
   "source": "session_num = '006'",
   "id": "9a7aad54251f8bd4",
   "outputs": [],
   "execution_count": null
  },
  {
   "metadata": {},
   "cell_type": "code",
   "source": [
    "outputs_folder_path_csv = 'output_files_PSO_MNIST/csv'\n",
    "outputs_folder_path_txt = 'output_files_PSO_MNIST/txt'\n",
    "outputs_folder_path_db = 'output_files_PSO_MNIST/db'"
   ],
   "id": "9630d142d403be86",
   "outputs": [],
   "execution_count": null
  },
  {
   "metadata": {},
   "cell_type": "markdown",
   "source": "## Load Data",
   "id": "28310f56881fb6ce"
  },
  {
   "metadata": {},
   "cell_type": "code",
   "source": "train_dataset, val_dataset, test_dataset = load_MNIST_data('data_pso/')",
   "id": "884b1229deff0ad5",
   "outputs": [],
   "execution_count": null
  },
  {
   "metadata": {},
   "cell_type": "markdown",
   "source": "## Optuna Optimization",
   "id": "b3024d8aca1a36e7"
  },
  {
   "metadata": {},
   "cell_type": "markdown",
   "source": "### Define Objective Function",
   "id": "dc400344259a152d"
  },
  {
   "metadata": {},
   "cell_type": "code",
   "source": [
    "def objective(trial: Trial, logger: Logger):\n",
    "    # Define Hyperparameters - Structure HPs - Activation Function\n",
    "    activation = trial.suggest_categorical('activation_fn', ['relu', 'sigmoid', 'tanh'])\n",
    "    # activation = 'relu'\n",
    "    \n",
    "    # Define Hyperparameters - Structure HPs - Network Architecture (Depth)\n",
    "    # num_hidden_layer = trial.suggest_int('num_hidden_layer', 3, 3)\n",
    "    num_hidden_layer = 3\n",
    "\n",
    "    # Define Hyperparameters - Structure HPs - Network Architecture (Width)\n",
    "    network_architecture = [28 * 28]\n",
    "    for i in range(num_hidden_layer):\n",
    "        layer_width = trial.suggest_int(f'hidden_layer_n{i+1}_size', 0, 128, step=8)\n",
    "        if layer_width != 0:\n",
    "            network_architecture.append(layer_width)\n",
    "    network_architecture.append(10)\n",
    "    trial.set_user_attr('network', network_architecture)\n",
    "    \n",
    "\n",
    "    # Define Hyperparameters - Training HPs - Batch Size\n",
    "    # batch_size = trial.suggest_int('batch_size', 16, 64, step=16)\n",
    "    batch_size = 16\n",
    "    \n",
    "    # Define Hyperparameters - Training HPs - Learning Rate\n",
    "    learning_rate = trial.suggest_float('learning_rate', 1e-4, 1e-2, log=True)\n",
    "    # learning_rate = 1e-3\n",
    "    \n",
    "    # Define Hyperparameters - Training HPs - Loss Function\n",
    "    # loss_function_str = trial.suggest_categorical('loss_fn', ['CrossEntropy', 'Focal'])\n",
    "    loss_function_str = 'CrossEntropy'\n",
    "    \n",
    "    # Define Hyperparameters - Training HPs - Optimizer\n",
    "    optimizer_str = trial.suggest_categorical('optimizer', ['SGD', 'Adam'])\n",
    "    # optimizer_str = 'Adam'\n",
    "\n",
    "    # Define Hyperparameters - Max Epochs\n",
    "    max_epochs = 30\n",
    "\n",
    "\n",
    "    # Init DataLoaders\n",
    "    train_loader = init_data_loader(train_dataset, batch_size=batch_size)\n",
    "    val_loader = init_data_loader(val_dataset, batch_size=batch_size)\n",
    "    test_loader = init_data_loader(test_dataset, batch_size=batch_size)\n",
    "\n",
    "    # Init Model\n",
    "    model_extra_args = {'network_architecture': network_architecture, 'activation': get_activation_fn(activation)}\n",
    "    model = init_model(model_str='MLP', extra_args=model_extra_args).to(get_device())\n",
    "\n",
    "    # Init Loss\n",
    "    loss_fn = get_loss_fn(loss_str=loss_function_str)\n",
    "    \n",
    "    # Init Optimizer\n",
    "    optimizer = get_optimizer(model=model, optimizer_str=optimizer_str, learning_rate=learning_rate)\n",
    "\n",
    "    # Init Regularizer\n",
    "    regularizer = Regularizer(lambda_tot_widths=0.4, max_depth=3, max_width=128)\n",
    "\n",
    "    # Init Early Stopper\n",
    "    early_stopper = EarlyStopper(patience=5, mode=\"maximize\")\n",
    "    \n",
    "    \n",
    "    # Perform Training\n",
    "    optim_score = full_train_loop(max_epochs=max_epochs,\n",
    "                                  train_loader=train_loader, val_loader=val_loader, test_loader=test_loader,\n",
    "                                  model=model,\n",
    "                                  loss_fn=loss_fn,\n",
    "                                  optimizer=optimizer,\n",
    "                                  regularizer=regularizer,\n",
    "                                  early_stopper=early_stopper,\n",
    "                                  logger=logger,\n",
    "                                  trial=trial)\n",
    "    \n",
    "    return optim_score"
   ],
   "id": "29939e86aff5ee23",
   "outputs": [],
   "execution_count": null
  },
  {
   "metadata": {},
   "cell_type": "markdown",
   "source": "#### Optuna Constants - Study Parameters",
   "id": "6ee210c2fca9690a"
  },
  {
   "metadata": {},
   "cell_type": "code",
   "source": "ATTRS = ('number', 'system_attrs', 'value', 'user_attrs', 'state', 'params', 'duration', 'datetime_start', 'datetime_complete')",
   "id": "798d3ca47094d36d",
   "outputs": [],
   "execution_count": null
  },
  {
   "metadata": {},
   "cell_type": "code",
   "source": "DIRECTION = 'maximize'",
   "id": "af1823e3a8f30515",
   "outputs": [],
   "execution_count": null
  },
  {
   "metadata": {},
   "cell_type": "code",
   "source": [
    "optuna_runner = OptunaRunner(objective_fn=objective,\n",
    "                             n_jobs=1,\n",
    "                             n_trials=24,\n",
    "                             path_csv=outputs_folder_path_csv,\n",
    "                             path_txt=outputs_folder_path_txt,\n",
    "                             session_num=session_num,\n",
    "                             metric_to_follow='accuracy',\n",
    "                             attrs=ATTRS)"
   ],
   "id": "9662d371fec1a90e",
   "outputs": [],
   "execution_count": null
  },
  {
   "metadata": {},
   "cell_type": "code",
   "source": [
    "optuna_study_creator = OptunaStudyCreator(path_db=outputs_folder_path_db, \n",
    "                                          session_num=session_num, \n",
    "                                          experiment_name=\"LEGACY_PSO_MNIST\")"
   ],
   "id": "1b4280aa4e547d8e",
   "outputs": [],
   "execution_count": null
  },
  {
   "metadata": {},
   "cell_type": "markdown",
   "source": "#### Optuna Constants - Samplers",
   "id": "303b64a7d6dcf4ab"
  },
  {
   "metadata": {},
   "cell_type": "code",
   "source": "PSOSampler = PSOSampler(num_particles=8, max_generations=3)",
   "id": "2d9185b60fd5ddf9",
   "outputs": [],
   "execution_count": null
  },
  {
   "metadata": {},
   "cell_type": "markdown",
   "source": "#### Optuna Constants - Pruners",
   "id": "2e0e3329a5bdddcc"
  },
  {
   "metadata": {},
   "cell_type": "code",
   "source": [
    "MedianPruner = optuna.pruners.MedianPruner(n_startup_trials=0, n_warmup_steps=4, interval_steps=5, n_min_trials=4)\n",
    "HyperbandPruner = optuna.pruners.HyperbandPruner(min_resource=3, max_resource=30, reduction_factor=3, bootstrap_count=6)"
   ],
   "id": "ca977b5a70b40a5f",
   "outputs": [],
   "execution_count": null
  },
  {
   "metadata": {},
   "cell_type": "markdown",
   "source": "### Run Optimizations",
   "id": "b94ed251e6a832b5"
  },
  {
   "metadata": {},
   "cell_type": "markdown",
   "source": "#### PSO Sampler",
   "id": "2358f8366f3c7322"
  },
  {
   "metadata": {},
   "cell_type": "code",
   "source": [
    "study_name_PSO = 'PSO_Sampler'\n",
    "study_PSO = optuna_study_creator(study_name=study_name_PSO, storage=False, direction=DIRECTION, \n",
    "                                 sampler=PSOSampler, pruner=None)\n",
    "optuna_runner(study_PSO, study_name_PSO)"
   ],
   "id": "7cd26cc383392bfe",
   "outputs": [],
   "execution_count": null
  }
 ],
 "metadata": {
  "kernelspec": {
   "display_name": "Python 3",
   "language": "python",
   "name": "python3"
  },
  "language_info": {
   "codemirror_mode": {
    "name": "ipython",
    "version": 2
   },
   "file_extension": ".py",
   "mimetype": "text/x-python",
   "name": "python",
   "nbconvert_exporter": "python",
   "pygments_lexer": "ipython2",
   "version": "2.7.6"
  }
 },
 "nbformat": 4,
 "nbformat_minor": 5
}
