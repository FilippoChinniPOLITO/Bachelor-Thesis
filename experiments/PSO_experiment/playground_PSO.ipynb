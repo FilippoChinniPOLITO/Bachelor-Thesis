{
 "cells": [
  {
   "metadata": {},
   "cell_type": "markdown",
   "source": "# Particle Swarm Optimization",
   "id": "4d4368bdca546144"
  },
  {
   "metadata": {},
   "cell_type": "markdown",
   "source": "## Environment Setup",
   "id": "1d1ea1b1a7d2bd1a"
  },
  {
   "metadata": {},
   "cell_type": "markdown",
   "source": "### Import Dependencies",
   "id": "74f76d0f70f5cdb7"
  },
  {
   "metadata": {},
   "cell_type": "code",
   "source": [
    "import numpy as np\n",
    "\n",
    "import warnings\n",
    "warnings.filterwarnings('ignore')\n",
    "\n",
    "import sys\n",
    "sys.path.insert(0, '..')\n",
    "sys.path.insert(0, '../..')\n",
    "# sys.path.insert(0, '../code/Users/f.chinnicarella/src/root_workspace/Bachelor-Thesis')\n",
    "\n",
    "from utils.persistency.logger import Logger\n",
    "\n",
    "from utils.dataset.build_dataset import load_MNIST_data\n",
    "from utils.dataset.build_dataloader import init_data_loader\n",
    "\n",
    "from utils.training.train_loop import full_train_loop\n",
    "from utils.model.model_utils import init_model\n",
    "from utils.optimization.early_stopper import EarlyStopper\n",
    "from utils.optimization.regularizer import Regularizer\n",
    "from utils.misc.device import get_device\n",
    "from utils.model.model_utils import get_activation_fn, get_loss_fn, get_optimizer\n",
    "from utils.pso.PSO import PSO, PSOTrial\n",
    "from utils.pso.pso_runner import PSORunner\n",
    "from utils.pso.pso_pruners import PSOMedianPruner\n",
    "\n",
    "from utils.display_results.display_results import prediction_loop\n",
    "from utils.display_results.display_results import display_images\n",
    "from utils.persistency.file_name_builder import file_name_builder, folder_exists_check"
   ],
   "id": "8d33ab1260d399d5",
   "outputs": [],
   "execution_count": null
  },
  {
   "metadata": {},
   "cell_type": "markdown",
   "source": "### Init Session",
   "id": "b703f39d8cba8745"
  },
  {
   "metadata": {},
   "cell_type": "code",
   "source": "session_num = '003'",
   "id": "73ee59b86b0c7fd2",
   "outputs": [],
   "execution_count": null
  },
  {
   "metadata": {},
   "cell_type": "code",
   "source": [
    "outputs_folder_path_csv = 'output_files_PSO/csv'\n",
    "outputs_folder_path_txt = 'output_files_PSO/txt'"
   ],
   "id": "eb09774ecfd8ed58",
   "outputs": [],
   "execution_count": null
  },
  {
   "metadata": {},
   "cell_type": "markdown",
   "source": "## Load Data",
   "id": "d6857213d868700"
  },
  {
   "metadata": {},
   "cell_type": "code",
   "source": "train_dataset, val_dataset, test_dataset = load_MNIST_data('data_MNIST/')",
   "id": "2f5f38cec8efddcf",
   "outputs": [],
   "execution_count": null
  },
  {
   "metadata": {},
   "cell_type": "code",
   "source": [
    "# train_loader = init_data_loader(train_dataset, batch_size=32)\n",
    "# val_loader = init_data_loader(val_dateset, batch_size=32)\n",
    "# test_loader = init_data_loader(test_dataset, batch_size=32)"
   ],
   "id": "c9d049b8380174fe",
   "outputs": [],
   "execution_count": null
  },
  {
   "metadata": {},
   "cell_type": "markdown",
   "source": "## Optuna Optimization",
   "id": "a136e68ed188479e"
  },
  {
   "metadata": {},
   "cell_type": "markdown",
   "source": "### Define Objective Function",
   "id": "4163a4ae305a0839"
  },
  {
   "metadata": {},
   "cell_type": "code",
   "source": [
    "def objective(trial: PSOTrial, logger: Logger):\n",
    "    # Define Hyperparameters - Structure HPs\n",
    "    activation = 'relu'\n",
    "    # num_hidden_layer = round(trial.hyperparameters['num_hidden_layer'])\n",
    "    num_hidden_layer = 3\n",
    "\n",
    "    network_architecture = [28 * 28]\n",
    "    for i in range(num_hidden_layer):\n",
    "        layer_width = round(trial.hyperparameters[f'hidden_layer_n{i+1}_size'])\n",
    "        if layer_width > 8:\n",
    "            network_architecture.append(layer_width)\n",
    "    network_architecture.append(10)\n",
    "    trial.set_user_attr('network', network_architecture)\n",
    "\n",
    "    # Define Hyperparameters - Training HPs\n",
    "    batch_size = 64\n",
    "    learning_rate = trial.hyperparameters['learning_rate']\n",
    "    loss_function_str = 'CrossEntropy'\n",
    "    optimizer_str = 'Adam'\n",
    "\n",
    "    # Define Hyperparameters - Epochs\n",
    "    max_epochs = 30\n",
    "\n",
    "\n",
    "    # Init DataLoaders\n",
    "    train_loader = init_data_loader(train_dataset, batch_size=batch_size)\n",
    "    val_loader = init_data_loader(val_dataset, batch_size=batch_size)\n",
    "    test_loader = init_data_loader(test_dataset, batch_size=batch_size)\n",
    "\n",
    "    # Init Model\n",
    "    model_extra_args = {'network_architecture': network_architecture, 'activation': get_activation_fn(activation)}\n",
    "    model = init_model(model_str='MLP', extra_args=model_extra_args).to(get_device())\n",
    "\n",
    "    # Init Loss\n",
    "    loss_fn = get_loss_fn(loss_str=loss_function_str)\n",
    "    \n",
    "    # Init Optimizer\n",
    "    optimizer = get_optimizer(model=model, optimizer_str=optimizer_str, learning_rate=learning_rate)\n",
    "\n",
    "    # Init Regularizer\n",
    "    regularizer = Regularizer(lambda_tot_widths=0.4, max_depth=3, max_width=128)\n",
    "\n",
    "    # Init Early Stopper\n",
    "    early_stopper = EarlyStopper(patience=5, mode=\"maximize\")\n",
    "    \n",
    "    \n",
    "    # Perform Training\n",
    "    optim_score = full_train_loop(max_epochs=max_epochs,\n",
    "                                  train_loader=train_loader, val_loader=val_loader, test_loader=test_loader,\n",
    "                                  model=model,\n",
    "                                  loss_fn=loss_fn,\n",
    "                                  optimizer=optimizer,\n",
    "                                  regularizer=regularizer,\n",
    "                                  early_stopper=early_stopper,\n",
    "                                  logger=logger,\n",
    "                                  trial=trial)\n",
    "    \n",
    "    return optim_score"
   ],
   "id": "eca9349791748507",
   "outputs": [],
   "execution_count": null
  },
  {
   "metadata": {},
   "cell_type": "markdown",
   "source": "#### PSO Constants",
   "id": "d971e585aeed37ae"
  },
  {
   "metadata": {},
   "cell_type": "code",
   "source": "ATTRS = ('generation', 'particle_id', 'hp_num_hidden_layer', 'score', 'user_attrs_epochs', 'user_attrs_network', 'user_attr_accuracy', 'user_attr_precision', 'user_attr_recall', 'user_attr_f1', 'state', 'duration', 'hp_hidden_layer_n1_size', 'hp_hidden_layer_n2_size', 'hp_hidden_layer_n3_size', 'hp_learning_rate' 'datetime_start', 'datetime_complete')",
   "id": "8f72c51962b4c8bb",
   "outputs": [],
   "execution_count": null
  },
  {
   "metadata": {},
   "cell_type": "code",
   "source": "DIRECTION = 'maximize'",
   "id": "a0c317a796f2373f",
   "outputs": [],
   "execution_count": null
  },
  {
   "metadata": {},
   "cell_type": "markdown",
   "source": "### Define Study",
   "id": "9fc080c672c77c6c"
  },
  {
   "metadata": {},
   "cell_type": "code",
   "source": [
    "DYNAMIC_HPs = {\n",
    "    # 'num_hidden_layer': [3, 3],\n",
    "    'hidden_layer_n1_size': [0, 128],\n",
    "    'hidden_layer_n2_size': [0, 128],\n",
    "    'hidden_layer_n3_size': [0, 128],\n",
    "    'learning_rate': [1e-4, 1e-2]\n",
    "}"
   ],
   "id": "f0283053dcae2524",
   "outputs": [],
   "execution_count": null
  },
  {
   "metadata": {},
   "cell_type": "code",
   "source": "pso_pruner = PSOMedianPruner(n_startup_generations=3, n_warmup_steps=4, interval_steps=4, min_trials_per_step=4)",
   "id": "140d3bf8f11c76e7",
   "outputs": [],
   "execution_count": null
  },
  {
   "metadata": {},
   "cell_type": "code",
   "source": "pso = PSO(objective_fn=objective, hps_bounds=DYNAMIC_HPs, num_particles=32, max_generations=10, pruner=None)",
   "id": "77525232a8e49a16",
   "outputs": [],
   "execution_count": null
  },
  {
   "metadata": {},
   "cell_type": "markdown",
   "source": "### Run Optimization",
   "id": "1f51e407005d0ce2"
  },
  {
   "metadata": {},
   "cell_type": "code",
   "source": [
    "pso_runner = PSORunner(path_csv=outputs_folder_path_csv,\n",
    "                       path_txt=outputs_folder_path_txt,\n",
    "                       session_num=session_num,\n",
    "                       n_jobs=-1,\n",
    "                       metric_to_follow='accuracy', attrs=None)"
   ],
   "id": "2fa7fbf1159a8b7b",
   "outputs": [],
   "execution_count": null
  },
  {
   "metadata": {},
   "cell_type": "code",
   "source": "pso_runner(pso, 'PSO_Optimization')",
   "id": "622183a28ff8c5de",
   "outputs": [],
   "execution_count": null
  }
 ],
 "metadata": {
  "kernelspec": {
   "display_name": "Python 3",
   "language": "python",
   "name": "python3"
  },
  "language_info": {
   "codemirror_mode": {
    "name": "ipython",
    "version": 2
   },
   "file_extension": ".py",
   "mimetype": "text/x-python",
   "name": "python",
   "nbconvert_exporter": "python",
   "pygments_lexer": "ipython2",
   "version": "2.7.6"
  }
 },
 "nbformat": 4,
 "nbformat_minor": 5
}
